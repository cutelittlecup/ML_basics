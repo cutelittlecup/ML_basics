{
 "cells": [
  {
   "cell_type": "code",
   "execution_count": 1,
   "id": "c534ec77",
   "metadata": {},
   "outputs": [],
   "source": [
    "import pandas as pd\n",
    "import numpy as np\n",
    "\n",
    "from sklearn.datasets import make_regression\n",
    "from sklearn.metrics import r2_score"
   ]
  },
  {
   "cell_type": "code",
   "execution_count": 3,
   "id": "03b33a91",
   "metadata": {},
   "outputs": [],
   "source": [
    "def prediction(X, w):\n",
    "    X = np.hstack((np.ones((X.shape[0], 1)), X))\n",
    "    return X @ w"
   ]
  },
  {
   "cell_type": "code",
   "execution_count": 4,
   "id": "5e3a71be",
   "metadata": {},
   "outputs": [],
   "source": [
    "def compute_cost(X, y, w):\n",
    "    return (1. / len(y)) * (np.linalg.norm(X @ w - y) ** 2)"
   ]
  },
  {
   "cell_type": "code",
   "execution_count": 2,
   "id": "60bf5dde",
   "metadata": {},
   "outputs": [],
   "source": [
    "# Analytical solution\n",
    "def ols_solution(X, y):\n",
    "    X = np.hstack((np.ones((X.shape[0], 1)), X))\n",
    "    w = np.linalg.inv(X.T @ X) @ X.T @ y\n",
    "    cost = compute_cost(X, y, w)\n",
    "    return cost, w"
   ]
  },
  {
   "cell_type": "code",
   "execution_count": 5,
   "id": "93640aab",
   "metadata": {},
   "outputs": [],
   "source": [
    "# Gradient descent\n",
    "def gradient_descent(X, y, learning_rate, iterations):\n",
    "    X = np.hstack((np.ones((X.shape[0], 1)), X))\n",
    "    params = np.random.rand(X.shape[1])\n",
    "\n",
    "    m = X.shape[0]\n",
    "\n",
    "    cost_track = np.zeros((iterations, 1))\n",
    "\n",
    "    for i in range(iterations):\n",
    "        params = params - 2. / m * learning_rate * (X.T @ ((X @ params) - y))\n",
    "        cost_track[i] = compute_cost(X, y, params)\n",
    "\n",
    "    return cost_track, params"
   ]
  },
  {
   "cell_type": "code",
   "execution_count": 6,
   "id": "a961b83a",
   "metadata": {},
   "outputs": [],
   "source": [
    "# Stochastic gradient descent\n",
    "def stochastic_gradient_descent(X, y, learning_rate, iterations):\n",
    "    X = np.hstack((np.ones((X.shape[0], 1)), X))\n",
    "    params = np.random.rand(X.shape[1])\n",
    "\n",
    "    m = X.shape[0]\n",
    "\n",
    "    cost_track = np.zeros((iterations, 1))\n",
    "    index_shuffled = list(range(m))\n",
    "    np.random.shuffle(index_shuffled)\n",
    "\n",
    "    for i in range(iterations):\n",
    "        index = index_shuffled[i]\n",
    "        x = X[index]\n",
    "        params = params - 2 * learning_rate * (x * ((x @ params) - y[index]))\n",
    "        cost_track[i] = compute_cost(X, y, params)\n",
    "\n",
    "    return cost_track, params"
   ]
  },
  {
   "cell_type": "code",
   "execution_count": 7,
   "id": "c785de14",
   "metadata": {},
   "outputs": [],
   "source": [
    "RANDOM_STATE = 123\n",
    "\n",
    "np.random.RandomState(RANDOM_STATE)\n",
    "np.random.seed(RANDOM_STATE)\n",
    "np.random.seed(RANDOM_STATE)"
   ]
  },
  {
   "cell_type": "code",
   "execution_count": 8,
   "id": "6478d80c",
   "metadata": {},
   "outputs": [],
   "source": [
    "X, y, _ = make_regression(n_samples=100000, n_features=10, n_informative=8, noise=100, coef=True,\n",
    "                          random_state=RANDOM_STATE)\n",
    "X = pd.DataFrame(data=X, columns=np.arange(0, X.shape[1]))\n",
    "X[10] = X[6] + X[7] + np.random.random() * 0.01"
   ]
  },
  {
   "cell_type": "code",
   "execution_count": 9,
   "id": "94691fbc",
   "metadata": {},
   "outputs": [
    {
     "data": {
      "text/plain": [
       "0.7523155705375255"
      ]
     },
     "execution_count": 9,
     "metadata": {},
     "output_type": "execute_result"
    }
   ],
   "source": [
    "cost_lr, weights_lr = ols_solution(X, y)\n",
    "predictions_lr = prediction(X, weights_lr)\n",
    "\n",
    "r2_score(y, predictions_lr)"
   ]
  },
  {
   "cell_type": "code",
   "execution_count": 10,
   "id": "7a37d402",
   "metadata": {},
   "outputs": [
    {
     "data": {
      "text/plain": [
       "0.7554626185750483"
      ]
     },
     "execution_count": 10,
     "metadata": {},
     "output_type": "execute_result"
    }
   ],
   "source": [
    "cost_gd, weights_gd = gradient_descent(X, y, 0.01, 10000)\n",
    "predictions_gd = prediction(X, weights_gd)\n",
    "\n",
    "r2_score(y, predictions_gd)"
   ]
  },
  {
   "cell_type": "code",
   "execution_count": 12,
   "id": "0064460a",
   "metadata": {},
   "outputs": [
    {
     "data": {
      "text/plain": [
       "0.73157230950667"
      ]
     },
     "execution_count": 12,
     "metadata": {},
     "output_type": "execute_result"
    }
   ],
   "source": [
    "cost_sgd, weights_sgd = stochastic_gradient_descent(X, y, 0.01, 10000)\n",
    "predictions_sgd = prediction(X, weights_sgd)\n",
    "r2_score(y, predictions_sgd)"
   ]
  }
 ],
 "metadata": {
  "kernelspec": {
   "display_name": "Python 3 (ipykernel)",
   "language": "python",
   "name": "python3"
  },
  "language_info": {
   "codemirror_mode": {
    "name": "ipython",
    "version": 3
   },
   "file_extension": ".py",
   "mimetype": "text/x-python",
   "name": "python",
   "nbconvert_exporter": "python",
   "pygments_lexer": "ipython3",
   "version": "3.10.9"
  }
 },
 "nbformat": 4,
 "nbformat_minor": 5
}
